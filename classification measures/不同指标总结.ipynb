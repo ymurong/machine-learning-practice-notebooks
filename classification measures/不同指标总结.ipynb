{
 "cells": [
  {
   "cell_type": "markdown",
   "source": [
    "首先需要明确一点：在机器学习领域，对于指标，很多时候不是选择谁的问题，而是在可能的情况下，所有的指标都应该看一看，以确定训练的模型是否有问题。这就好比在医院检查身体，不是先确定要看哪个指标，然后就只看这个指标；而是尽可能去看所有指标。\b因为任何一个指标存在问题，都可能意味着\b你的身体的某个机能存在问题。\n",
    "\n",
    "\n",
    "\n",
    "所以，我们的目的不是“找到”单一的“最好”的指标；而是了解所有的指标背后在反映什么，在看到这个指标出现问题的时候，能够判断问题可能出现在哪里，进而改进我们的模型。虽然我们的改进方向可能是单一的。这就好比在医院看病，我们主要症状可能是发烧，此时，我们的主要异常指标是“温度”，所以我们主要尝试使用可以“降温”的治疗手段，但这不代表我们在治疗的过程中对其他指标不管不顾，只要把温度降到正常水平就可以了。在尝试“降温”的过程中，如果我们发现血压，心跳，白血球，红血球，任何一个指标出现异常，我们都需要马上做出相应的反应。\n",
    "\n",
    "\n",
    "\n",
    "具体到PR曲线和ROC曲线，他们的核心区别在TN。可以看出来，PR曲线其实不反应TN。所以，如果你的应用场景中，如果TN并不重要，那么PR曲线是一个很好的指标（事实上，Precision和Recall就是通过抹去TN，来去除极度的偏斜数据带来的影响，进而放大FP, FN和TP三者的关系的）。\n",
    "\n",
    "\n",
    "\n",
    "而ROC曲线则综合了TN, FP, FN和TP。虽然它对TN极度多的情况下，FP，FN和TP的变化不敏感。所以在TN没有那么多（数据没有那么偏斜），或者TN是一种很重要的需要考虑的情况下，ROC能反映出PR不能反映的问题。"
   ],
   "metadata": {
    "collapsed": false,
    "pycharm": {
     "name": "#%% md\n"
    }
   }
  },
  {
   "cell_type": "markdown",
   "source": [
    "在这一章，我们介绍了可以通过调节算法内部的threshold来改进二分类问题的性能结果，这个方法同样适用于多分类问题。因为对于大多数参数学习算法来说，多分类问题本质也是二分类问题，可以回忆一下OvO和OvA：）\n",
    "\n",
    "\n",
    "\n",
    "但是，调整threshold绝对不是唯一的方法。实际上，在调整算法性能方面，使用机器学习算法的套路是统一的：使用更多的数据；使用更好的数据；特征工程挖掘数据本身更好的特征；使用更合适的算法；为算法调整更适合的参数（调参）。上面说的调节threshold，本质就是调参\n",
    "\n",
    "\n",
    "\n",
    "我们在这一章，只是介绍了更多对分类问题的评价方法，这并不意味着我们在使用机器学习算法上会有什么不同。只不过，我们多了更多的武器，从更多的维度，可以衡量我们的算法哪里好，哪里不好：）"
   ],
   "metadata": {
    "collapsed": false,
    "pycharm": {
     "name": "#%% md\n"
    }
   }
  },
  {
   "cell_type": "code",
   "execution_count": null,
   "outputs": [],
   "source": [],
   "metadata": {
    "collapsed": false,
    "pycharm": {
     "name": "#%%\n"
    }
   }
  }
 ],
 "metadata": {
  "kernelspec": {
   "display_name": "Python 3",
   "language": "python",
   "name": "python3"
  },
  "language_info": {
   "codemirror_mode": {
    "name": "ipython",
    "version": 2
   },
   "file_extension": ".py",
   "mimetype": "text/x-python",
   "name": "python",
   "nbconvert_exporter": "python",
   "pygments_lexer": "ipython2",
   "version": "2.7.6"
  }
 },
 "nbformat": 4,
 "nbformat_minor": 0
}