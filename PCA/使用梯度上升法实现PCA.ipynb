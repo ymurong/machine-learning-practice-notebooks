{
 "cells": [
  {
   "cell_type": "code",
   "execution_count": 3,
   "id": "b27e5308",
   "metadata": {
    "pycharm": {
     "name": "#%%\n"
    }
   },
   "outputs": [],
   "source": [
    "import numpy as np\n",
    "import matplotlib.pyplot as plt\n",
    "np.random.seed(666)"
   ]
  },
  {
   "cell_type": "code",
   "execution_count": 4,
   "id": "e2af272d",
   "metadata": {
    "pycharm": {
     "name": "#%%\n"
    }
   },
   "outputs": [
    {
     "data": {
      "text/plain": "array([[0.00000000e+000, 1.09682573e-321],\n       [0.00000000e+000, 6.92951003e-310],\n       [0.00000000e+000, 0.00000000e+000],\n       [            nan, 0.00000000e+000],\n       [6.92937726e-310, 0.00000000e+000],\n       [4.44659081e-323, 6.92952359e-310],\n       [6.92953150e-310,             nan],\n       [0.00000000e+000,             nan],\n       [0.00000000e+000, 6.92937726e-310],\n       [3.55727265e-322, 5.43472210e-323],\n       [6.92952359e-310, 6.92953150e-310],\n       [4.94065646e-324, 1.38338381e-322],\n       [            nan, 0.00000000e+000],\n       [6.92937726e-310, 7.11454530e-322],\n       [5.43472210e-323, 6.92952359e-310],\n       [6.92953150e-310, 0.00000000e+000],\n       [1.38338381e-322,             nan],\n       [4.94065646e-323, 6.92937726e-310],\n       [1.06718180e-321, 3.95252517e-323],\n       [6.92952359e-310, 6.92953150e-310],\n       [6.92953642e-310, 1.28457068e-322],\n       [            nan, 0.00000000e+000],\n       [6.92937726e-310, 1.42290906e-321],\n       [5.43472210e-323, 6.92952359e-310],\n       [6.92953150e-310, 0.00000000e+000],\n       [7.90505033e-323,             nan],\n       [0.00000000e+000, 6.92937726e-310],\n       [1.77863633e-321, 3.45845952e-323],\n       [6.92952359e-310, 6.92953150e-310],\n       [0.00000000e+000, 1.28457068e-322],\n       [            nan, 6.92951031e-310],\n       [4.94065646e-324, 2.13436359e-321],\n       [1.48219694e-323, 6.92952359e-310],\n       [6.92953150e-310, 0.00000000e+000],\n       [0.00000000e+000, 0.00000000e+000],\n       [0.00000000e+000, 4.94065646e-324],\n       [0.00000000e+000, 6.92952359e-310],\n       [0.00000000e+000, 0.00000000e+000],\n       [0.00000000e+000, 0.00000000e+000],\n       [0.00000000e+000, 0.00000000e+000],\n       [0.00000000e+000, 0.00000000e+000],\n       [0.00000000e+000, 0.00000000e+000],\n       [0.00000000e+000, 0.00000000e+000],\n       [0.00000000e+000, 0.00000000e+000],\n       [0.00000000e+000, 6.92952359e-310],\n       [0.00000000e+000, 2.13436359e-321],\n       [9.88131292e-324, 6.92952359e-310],\n       [6.92953150e-310,             nan],\n       [1.28457068e-322,             nan],\n       [6.92952359e-310, 6.92937726e-310],\n       [3.59679790e-321, 4.44659081e-323],\n       [6.92952359e-310, 6.92953150e-310],\n       [4.94065646e-324, 5.92878775e-323],\n       [            nan, 6.92937726e-310],\n       [6.92937726e-310, 3.95252517e-321],\n       [4.44659081e-323, 6.92952359e-310],\n       [6.92953150e-310, 9.88131292e-324],\n       [5.92878775e-323,             nan],\n       [6.92951031e-310, 6.92937726e-310],\n       [6.92952359e-310, 0.00000000e+000],\n       [0.00000000e+000, 0.00000000e+000],\n       [0.00000000e+000, 0.00000000e+000],\n       [0.00000000e+000, 0.00000000e+000],\n       [0.00000000e+000, 0.00000000e+000],\n       [6.92952359e-310, 0.00000000e+000],\n       [6.92952359e-310, 6.92952359e-310],\n       [6.92952346e-310, 6.92950990e-310],\n       [6.92954970e-310, 6.92954971e-310],\n       [6.92952318e-310, 6.92954969e-310],\n       [6.92952316e-310, 6.92954971e-310],\n       [6.92952315e-310, 6.92952315e-310],\n       [6.92954971e-310, 6.92954971e-310],\n       [6.92952315e-310, 6.92953642e-310],\n       [6.92953642e-310, 6.92954969e-310],\n       [6.92952315e-310, 6.92950990e-310],\n       [6.92952315e-310, 6.92952315e-310],\n       [6.92954971e-310, 6.92954971e-310],\n       [6.92952318e-310, 6.92952316e-310],\n       [6.92954971e-310, 6.92952318e-310],\n       [6.92952315e-310, 6.92952315e-310],\n       [6.92954971e-310, 6.92952346e-310],\n       [6.92953643e-310, 6.92953643e-310],\n       [6.92952315e-310, 6.92954969e-310],\n       [6.92954970e-310, 6.92952316e-310],\n       [6.92953643e-310, 6.92954971e-310],\n       [6.92954971e-310, 6.92954969e-310],\n       [6.92954969e-310, 6.92954971e-310],\n       [6.92952314e-310, 6.92952314e-310],\n       [6.92954971e-310, 6.92952346e-310],\n       [6.92950990e-310, 6.92950990e-310],\n       [6.92950990e-310, 6.92952346e-310],\n       [6.92952346e-310, 6.92952346e-310],\n       [6.92954969e-310, 6.92951031e-310],\n       [6.92951031e-310, 2.20854340e-314],\n       [6.92952358e-310, 6.92937726e-310],\n       [6.92952353e-310, 6.92954968e-310],\n       [0.00000000e+000, 6.92954968e-310],\n       [6.92953155e-310, 6.92951003e-310],\n       [6.92954969e-310, 6.92954970e-310],\n       [6.92952316e-310, 6.92952316e-310]])"
     },
     "execution_count": 4,
     "metadata": {},
     "output_type": "execute_result"
    }
   ],
   "source": [
    "X = np.empty((100,2))\n",
    "X"
   ]
  },
  {
   "cell_type": "code",
   "execution_count": 3,
   "id": "b4feabd0",
   "metadata": {
    "pycharm": {
     "name": "#%%\n"
    }
   },
   "outputs": [],
   "source": [
    "X[:,0] = np.random.uniform(0., 100., size=100)\n",
    "X[:,1] = 0.75 * X[:,0] + 3. + np.random.normal(0, 10., size=100)"
   ]
  },
  {
   "cell_type": "code",
   "execution_count": 4,
   "id": "6afab398",
   "metadata": {
    "pycharm": {
     "name": "#%%\n"
    }
   },
   "outputs": [
    {
     "data": {
      "text/plain": [
       "<matplotlib.collections.PathCollection at 0x7f9e202c5460>"
      ]
     },
     "execution_count": 4,
     "metadata": {},
     "output_type": "execute_result"
    },
    {
     "data": {
      "image/png": "[encoded data removed]",
      "text/plain": [
       "<Figure size 432x288 with 1 Axes>"
      ]
     },
     "metadata": {
      "needs_background": "light"
     },
     "output_type": "display_data"
    }
   ],
   "source": [
    "plt.scatter(X[:,0], X[:,1])"
   ]
  },
  {
   "cell_type": "markdown",
   "id": "04e60598",
   "metadata": {
    "pycharm": {
     "name": "#%% md\n"
    }
   },
   "source": [
    "# demean"
   ]
  },
  {
   "cell_type": "code",
   "execution_count": 5,
   "id": "fdb529da",
   "metadata": {
    "pycharm": {
     "name": "#%%\n"
    }
   },
   "outputs": [],
   "source": [
    "def demean(X):\n",
    "    return X - np.mean(X, axis=0)"
   ]
  },
  {
   "cell_type": "code",
   "execution_count": 6,
   "id": "110a3006",
   "metadata": {
    "pycharm": {
     "name": "#%%\n"
    }
   },
   "outputs": [],
   "source": [
    "X_demean = demean(X)"
   ]
  },
  {
   "cell_type": "code",
   "execution_count": 7,
   "id": "b6dc2ea8",
   "metadata": {
    "pycharm": {
     "name": "#%%\n"
    }
   },
   "outputs": [
    {
     "data": {
      "text/plain": [
       "<matplotlib.collections.PathCollection at 0x7f9e606191c0>"
      ]
     },
     "execution_count": 7,
     "metadata": {},
     "output_type": "execute_result"
    },
    {
     "data": {
      "image/png": "[encoded data removed]",
      "text/plain": [
       "<Figure size 432x288 with 1 Axes>"
      ]
     },
     "metadata": {
      "needs_background": "light"
     },
     "output_type": "display_data"
    }
   ],
   "source": [
    "plt.scatter(X_demean[:,0], X_demean[:,1])"
   ]
  },
  {
   "cell_type": "markdown",
   "id": "145de62f",
   "metadata": {
    "pycharm": {
     "name": "#%% md\n"
    }
   },
   "source": [
    "## 梯度上升法"
   ]
  },
  {
   "cell_type": "code",
   "execution_count": 8,
   "id": "0676abaa",
   "metadata": {
    "pycharm": {
     "name": "#%%\n"
    }
   },
   "outputs": [],
   "source": [
    "def f(w,X):\n",
    "    return np.sum((X @ w)**2)/len(X)"
   ]
  },
  {
   "cell_type": "code",
   "execution_count": 9,
   "id": "2d9391f6",
   "metadata": {
    "pycharm": {
     "name": "#%%\n"
    }
   },
   "outputs": [],
   "source": [
    "def df_math(w,X):\n",
    "    return (X.T @ (X @ w)) * 2 /len(X)"
   ]
  },
  {
   "cell_type": "code",
   "execution_count": 10,
   "id": "d15d9a45",
   "metadata": {
    "pycharm": {
     "name": "#%%\n"
    }
   },
   "outputs": [],
   "source": [
    "def df_debug(w, X, epsilon = 0.0001):\n",
    "    res = np.empty(len(w))\n",
    "    for i in range(len(w)):\n",
    "        w_1 = w.copy()\n",
    "        w_1[i] += epsilon\n",
    "        w_2 = w.copy()\n",
    "        w_2[i] -= epsilon\n",
    "        res[i] = (f(w_1, X) - f(w_2, X))/ (2 * epsilon)\n",
    "    return res\n",
    "    "
   ]
  },
  {
   "cell_type": "code",
   "execution_count": null,
   "id": "69499066",
   "metadata": {
    "pycharm": {
     "name": "#%%\n"
    }
   },
   "outputs": [],
   "source": []
  },
  {
   "cell_type": "code",
   "execution_count": 11,
   "id": "bf310e10",
   "metadata": {
    "pycharm": {
     "name": "#%%\n"
    }
   },
   "outputs": [],
   "source": [
    "def direction(w):\n",
    "    return w/np.linalg.norm(w)\n",
    "\n",
    "def gradient_ascent(df, X, initial_w, eta, n_iters = 1e4, epsilon=1e-8):\n",
    "    cur_iter = 0 \n",
    "    w = direction(initial_w)\n",
    "    while cur_iter < n_iters:\n",
    "        gradient = df(w,X)\n",
    "        last_w = w\n",
    "        w = direction(w + eta * gradient)\n",
    "        if(abs(f(w,X) - f(last_w, X)) < epsilon):\n",
    "            break\n",
    "        cur_iter += 1\n",
    "    return w"
   ]
  },
  {
   "cell_type": "code",
   "execution_count": 12,
   "id": "138a38a1",
   "metadata": {
    "pycharm": {
     "name": "#%%\n"
    }
   },
   "outputs": [
    {
     "data": {
      "text/plain": [
       "array([0.32292754, 0.87410072])"
      ]
     },
     "execution_count": 12,
     "metadata": {},
     "output_type": "execute_result"
    }
   ],
   "source": [
    "initial_w = np.random.random(X.shape[1]) # 注意2：不能用0向量开始\n",
    "initial_w.T"
   ]
  },
  {
   "cell_type": "code",
   "execution_count": 13,
   "id": "63a2e625",
   "metadata": {
    "pycharm": {
     "name": "#%%\n"
    }
   },
   "outputs": [],
   "source": [
    "eta = 0.001\n",
    "# 注意3： 不能使用StandardScaler标准化数据"
   ]
  },
  {
   "cell_type": "code",
   "execution_count": 14,
   "id": "1039b9c5",
   "metadata": {
    "pycharm": {
     "name": "#%%\n"
    }
   },
   "outputs": [
    {
     "data": {
      "text/plain": [
       "array([0.77660882, 0.62998313])"
      ]
     },
     "execution_count": 14,
     "metadata": {},
     "output_type": "execute_result"
    }
   ],
   "source": [
    "gradient_ascent(df_debug, X_demean, initial_w, eta)"
   ]
  },
  {
   "cell_type": "code",
   "execution_count": 15,
   "id": "4699f034",
   "metadata": {
    "pycharm": {
     "name": "#%%\n"
    }
   },
   "outputs": [
    {
     "data": {
      "text/plain": [
       "array([0.77660882, 0.62998313])"
      ]
     },
     "execution_count": 15,
     "metadata": {},
     "output_type": "execute_result"
    }
   ],
   "source": [
    "gradient_ascent(df_math, X_demean, initial_w, eta)"
   ]
  },
  {
   "cell_type": "code",
   "execution_count": 16,
   "id": "94db2dc2",
   "metadata": {
    "pycharm": {
     "name": "#%%\n"
    }
   },
   "outputs": [
    {
     "name": "stdout",
     "output_type": "stream",
     "text": [
      "CPU times: user 537 µs, sys: 59 µs, total: 596 µs\n",
      "Wall time: 545 µs\n"
     ]
    },
    {
     "data": {
      "text/plain": [
       "array([0.77660882, 0.62998313])"
      ]
     },
     "execution_count": 16,
     "metadata": {},
     "output_type": "execute_result"
    }
   ],
   "source": [
    "%%time\n",
    "w = gradient_ascent(df_math, X_demean, initial_w, eta)\n",
    "w"
   ]
  },
  {
   "cell_type": "code",
   "execution_count": 17,
   "id": "78e234b5",
   "metadata": {
    "pycharm": {
     "name": "#%%\n"
    }
   },
   "outputs": [
    {
     "data": {
      "image/png": "[encoded data removed]",
      "text/plain": [
       "<Figure size 432x288 with 1 Axes>"
      ]
     },
     "metadata": {
      "needs_background": "light"
     },
     "output_type": "display_data"
    }
   ],
   "source": [
    "plt.scatter(X_demean[:,0], X_demean[:,1])\n",
    "plt.plot([0, w[0]*30], [0, w[1]*30], color='r')\n",
    "plt.show()"
   ]
  },
  {
   "cell_type": "markdown",
   "id": "3bac6925",
   "metadata": {
    "pycharm": {
     "name": "#%% md\n"
    }
   },
   "source": [
    "# 使用极端数据集测试"
   ]
  },
  {
   "cell_type": "code",
   "execution_count": 18,
   "id": "81e1d723",
   "metadata": {
    "pycharm": {
     "name": "#%%\n"
    }
   },
   "outputs": [],
   "source": [
    "X2 = np.empty((100, 2))\n",
    "X2[:,0] = np.random.uniform(0., 100., size=100)\n",
    "X2[:,1] = 0.75 * X2[:,0] + 3."
   ]
  },
  {
   "cell_type": "code",
   "execution_count": 19,
   "id": "35e2e257",
   "metadata": {
    "pycharm": {
     "name": "#%%\n"
    }
   },
   "outputs": [
    {
     "data": {
      "image/png": "[encoded data removed]",
      "text/plain": [
       "<Figure size 432x288 with 1 Axes>"
      ]
     },
     "metadata": {
      "needs_background": "light"
     },
     "output_type": "display_data"
    }
   ],
   "source": [
    "plt.scatter(X2[:,0], X2[:,1])\n",
    "plt.show()\n"
   ]
  },
  {
   "cell_type": "code",
   "execution_count": 20,
   "id": "d3ce3dcf",
   "metadata": {
    "pycharm": {
     "name": "#%%\n"
    }
   },
   "outputs": [],
   "source": [
    "X2_demean = demean(X2)"
   ]
  },
  {
   "cell_type": "code",
   "execution_count": 25,
   "id": "59b601f6",
   "metadata": {
    "pycharm": {
     "name": "#%%\n"
    }
   },
   "outputs": [
    {
     "name": "stdout",
     "output_type": "stream",
     "text": [
      "CPU times: user 519 µs, sys: 62 µs, total: 581 µs\n",
      "Wall time: 551 µs\n"
     ]
    },
    {
     "data": {
      "text/plain": [
       "array([0.79999984, 0.60000022])"
      ]
     },
     "execution_count": 25,
     "metadata": {},
     "output_type": "execute_result"
    }
   ],
   "source": [
    "%%time\n",
    "w2 = gradient_ascent(df_math, X2_demean, initial_w, eta)\n",
    "w2"
   ]
  },
  {
   "cell_type": "code",
   "execution_count": 22,
   "id": "29b09d43",
   "metadata": {
    "pycharm": {
     "name": "#%%\n"
    }
   },
   "outputs": [
    {
     "data": {
      "image/png": "[encoded data removed]",
      "text/plain": [
       "<Figure size 432x288 with 1 Axes>"
      ]
     },
     "metadata": {
      "needs_background": "light"
     },
     "output_type": "display_data"
    }
   ],
   "source": [
    "plt.scatter(X2_demean[:,0], X2_demean[:,1])\n",
    "plt.plot([0, w2[0]*30], [0, w2[1]*30], color='r')\n",
    "plt.show()"
   ]
  },
  {
   "cell_type": "markdown",
   "id": "02ab6565",
   "metadata": {
    "pycharm": {
     "name": "#%% md\n"
    }
   },
   "source": [
    "# 随机梯度上升法"
   ]
  },
  {
   "cell_type": "code",
   "execution_count": 32,
   "id": "bea18e40",
   "metadata": {
    "pycharm": {
     "name": "#%%\n"
    }
   },
   "outputs": [
    {
     "data": {
      "text/plain": [
       "array([76, 45,  0, 44, 47, 62, 61, 13,  9, 15,  5, 10, 41, 53, 85, 81, 88,\n",
       "       49, 80, 93, 60, 58, 20, 95, 83, 94, 68,  1,  4,  7, 27, 24, 65, 31,\n",
       "       97, 86, 67, 34, 17, 22, 89, 64, 74, 23, 56, 98, 37, 36, 57, 30, 90,\n",
       "       33, 39, 32, 75, 92, 26, 66, 51, 55, 46, 12, 73, 79, 11, 29, 19, 35,\n",
       "        3, 77, 52, 69, 40, 96, 21, 43,  2, 72, 87, 82, 14, 91, 84, 48, 63,\n",
       "       50,  6, 16, 99, 28,  8, 70, 38, 71, 25, 59, 78, 18, 54, 42])"
      ]
     },
     "execution_count": 32,
     "metadata": {},
     "output_type": "execute_result"
    }
   ],
   "source": [
    "np.random.permutation(len(X))"
   ]
  },
  {
   "cell_type": "code",
   "execution_count": 33,
   "id": "84752b33",
   "metadata": {
    "pycharm": {
     "name": "#%%\n"
    }
   },
   "outputs": [],
   "source": [
    "def dJ_sgd(w, X_i):\n",
    "    return (X_i.T * (X_i @ w)) * 2 /len(X)\n",
    "\n",
    "def sgd(X, initial_w, n_iters):\n",
    "\n",
    "    t0, t1 = 5, 50\n",
    "    def learning_rate(t):\n",
    "        return t0 / (t + t1)\n",
    "    \n",
    "    w = direction(initial_w)\n",
    "    for cur_iter in range(n_iters):\n",
    "        indexes = np.random.permutation(len(X))\n",
    "        X_new = X[indexes]\n",
    "        for i in range(len(X)):\n",
    "            gradient = dJ_sgd(w, X_new[i])\n",
    "            w = w + learning_rate(cur_iter*len(X) + i) * gradient\n",
    "            w = direction(w)\n",
    "    return w"
   ]
  },
  {
   "cell_type": "code",
   "execution_count": 34,
   "id": "542357bd",
   "metadata": {
    "pycharm": {
     "name": "#%%\n"
    }
   },
   "outputs": [
    {
     "name": "stdout",
     "output_type": "stream",
     "text": [
      "CPU times: user 7.56 ms, sys: 2.21 ms, total: 9.77 ms\n",
      "Wall time: 7.78 ms\n"
     ]
    },
    {
     "data": {
      "text/plain": [
       "array([0.79102149, 0.61178836])"
      ]
     },
     "execution_count": 34,
     "metadata": {},
     "output_type": "execute_result"
    }
   ],
   "source": [
    "%%time\n",
    "initial_w = np.random.random(X.shape[1])  # 不能取0\n",
    "initial_w\n",
    "sgd(X_demean,initial_w,5)"
   ]
  },
  {
   "cell_type": "code",
   "execution_count": null,
   "id": "1d0efce9",
   "metadata": {
    "pycharm": {
     "name": "#%%\n"
    }
   },
   "outputs": [],
   "source": []
  },
  {
   "cell_type": "code",
   "execution_count": null,
   "id": "485e560c",
   "metadata": {
    "pycharm": {
     "name": "#%%\n"
    }
   },
   "outputs": [],
   "source": []
  }
 ],
 "metadata": {
  "kernelspec": {
   "display_name": "Python 3",
   "language": "python",
   "name": "python3"
  },
  "language_info": {
   "codemirror_mode": {
    "name": "ipython",
    "version": 3
   },
   "file_extension": ".py",
   "mimetype": "text/x-python",
   "name": "python",
   "nbconvert_exporter": "python",
   "pygments_lexer": "ipython3",
   "version": "3.8.3"
  }
 },
 "nbformat": 4,
 "nbformat_minor": 5
}