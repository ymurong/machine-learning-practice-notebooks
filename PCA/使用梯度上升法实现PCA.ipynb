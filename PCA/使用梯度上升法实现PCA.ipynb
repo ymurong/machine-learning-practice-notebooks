{
 "cells": [
  {
   "cell_type": "code",
   "execution_count": 74,
   "id": "b27e5308",
   "metadata": {
    "pycharm": {
     "name": "#%%\n"
    }
   },
   "outputs": [],
   "source": [
    "import numpy as np\n",
    "import matplotlib.pyplot as plt\n",
    "np.random.seed(666)"
   ]
  },
  {
   "cell_type": "code",
   "execution_count": 75,
   "id": "e2af272d",
   "metadata": {
    "pycharm": {
     "name": "#%%\n"
    }
   },
   "outputs": [
    {
     "data": {
      "text/plain": "array([[0.00000000e+000, 6.92758561e-310],\n       [0.00000000e+000, 6.92758561e-310],\n       [6.92758561e-310, 5.43472210e-323],\n       [0.00000000e+000, 3.95252517e-323],\n       [5.33274108e-038, 3.64530945e-043],\n       [6.38563024e-067, 5.51693714e-048],\n       [1.90221420e-052, 5.10752446e+015],\n       [6.01347002e-154, 3.84349518e-057],\n       [7.49696024e-067, 3.52479428e-057],\n       [1.04137565e-042, 3.46162422e-129],\n       [6.01347002e-154, 4.66727231e-086],\n       [4.08297149e-033, 3.46081310e-086],\n       [7.49551699e-067, 9.18131975e-077],\n       [6.01347002e-154, 6.77021180e-043],\n       [1.64242926e-129, 3.67108687e-062],\n       [1.55050240e-129, 1.05811520e+006],\n       [7.26983917e-130, 2.73701150e-057],\n       [3.93249432e-067, 2.52456034e-052],\n       [1.10628858e-052, 2.56388944e-153],\n       [1.10280204e-052, 2.00324715e-076],\n       [5.10736988e+015, 1.36966714e-071],\n       [3.90063858e+020, 6.06163251e-154],\n       [9.08171756e+010, 1.08551584e-042],\n       [2.86338834e-153, 1.14283989e-071],\n       [3.64406893e-129, 6.01365815e-154],\n       [2.71596936e-153, 8.15769335e-043],\n       [6.06455731e-154, 1.14262142e-071],\n       [3.94407975e-067, 6.01347075e-154],\n       [6.06311767e-154, 1.45189823e-047],\n       [0.00000000e+000, 0.00000000e+000],\n       [0.00000000e+000, 6.01346930e-154],\n       [1.82714212e-076, 1.69136372e-052],\n       [1.99679456e-052, 4.85635569e-033],\n       [3.46162422e-129, 6.01347002e-154],\n       [3.25659522e-086, 6.12578814e-062],\n       [3.65796229e-086, 8.61832904e-043],\n       [9.18131975e-077, 6.01347002e-154],\n       [2.40588471e-057, 2.18377769e-129],\n       [6.77545982e-043, 7.30521207e-130],\n       [1.05811520e+006, 7.26983917e-130],\n       [5.34278645e-038, 3.91799385e-067],\n       [1.72291547e-047, 1.10649171e-052],\n       [2.56388944e-153, 1.10280204e-052],\n       [3.85340334e-057, 2.53817117e-314],\n       [1.25647098e-071, 3.90062734e+020],\n       [6.06163251e-154, 9.08171756e+010],\n       [5.34735127e-038, 2.86338835e-153],\n       [4.27932306e-033, 3.64406897e-129],\n       [6.01365815e-154, 2.71596936e-153],\n       [4.01708326e-057, 6.06455731e-154],\n       [5.34849479e-038, 3.94407975e-067],\n       [6.01347075e-154, 6.06311767e-154],\n       [5.88743076e-062, 6.01366958e-154],\n       [1.65814964e-076, 5.10752446e+015],\n       [6.01347002e-154, 9.69297829e-072],\n       [5.15629806e-062, 8.41789975e-053],\n       [4.01645366e-057, 3.46162422e-129],\n       [6.01347002e-154, 3.45688623e-086],\n       [1.35858679e-153, 3.24245662e-086],\n       [1.24529975e-047, 9.18131975e-077],\n       [6.01347002e-154, 6.77194632e-043],\n       [2.09360639e-129, 5.60379889e-067],\n       [1.55121237e-129, 1.05811520e+006],\n       [7.26983917e-130, 7.11442518e-067],\n       [3.93105111e-067, 8.96903392e-067],\n       [1.10709949e-052, 2.56388944e-153],\n       [1.10280204e-052, 7.12744312e-067],\n       [5.10744714e+015, 4.46964747e-033],\n       [3.90063016e+020, 6.06163251e-154],\n       [9.08171756e+010, 3.05686222e-057],\n       [2.86338812e-153, 1.25647977e-071],\n       [3.64406897e-129, 6.01365815e-154],\n       [2.71596936e-153, 1.08601997e-071],\n       [6.06455731e-154, 1.57178266e-076],\n       [3.94407975e-067, 6.01347075e-154],\n       [1.56564849e-033, 4.08749711e-033],\n       [3.61557992e-043, 1.19965555e-071],\n       [5.10752446e+015, 6.01347002e-154],\n       [1.12668927e-042, 2.52904966e-052],\n       [8.94864244e-067, 8.97629034e-067],\n       [3.46162422e-129, 6.01347002e-154],\n       [3.86218099e-086, 1.14350229e-071],\n       [4.46383907e-086, 3.22053247e-057],\n       [6.89906105e-310, 6.92757671e-310],\n       [6.92757671e-310, 6.92757671e-310],\n       [6.92757671e-310, 6.92757671e-310],\n       [6.92758296e-310, 6.92757668e-310],\n       [6.92757668e-310, 6.92757671e-310],\n       [6.92757671e-310, 6.92757509e-310],\n       [6.92757646e-310, 6.92757671e-310],\n       [6.92757671e-310, 6.92757671e-310],\n       [6.92757671e-310, 6.92757671e-310],\n       [6.92757671e-310, 6.92757671e-310],\n       [6.92758296e-310, 6.92758296e-310],\n       [6.92758566e-310, 6.92746746e-310],\n       [6.92757668e-310, 6.92757668e-310],\n       [6.92757668e-310, 6.92757668e-310],\n       [6.92757668e-310, 6.92757668e-310],\n       [6.92758296e-310, 6.92757668e-310],\n       [6.92757668e-310, 6.92757671e-310]])"
     },
     "execution_count": 75,
     "metadata": {},
     "output_type": "execute_result"
    }
   ],
   "source": [
    "X = np.empty((100,2))\n",
    "X"
   ]
  },
  {
   "cell_type": "code",
   "execution_count": 76,
   "id": "b4feabd0",
   "metadata": {
    "pycharm": {
     "name": "#%%\n"
    }
   },
   "outputs": [],
   "source": [
    "X[:,0] = np.random.uniform(0., 100., size=100)\n",
    "X[:,1] = 0.75 * X[:,0] + 3. + np.random.normal(0, 10., size=100)"
   ]
  },
  {
   "cell_type": "code",
   "execution_count": 77,
   "id": "6afab398",
   "metadata": {
    "pycharm": {
     "name": "#%%\n"
    }
   },
   "outputs": [
    {
     "data": {
      "text/plain": "<matplotlib.collections.PathCollection at 0x7f868e992d90>"
     },
     "execution_count": 77,
     "metadata": {},
     "output_type": "execute_result"
    },
    {
     "data": {
      "text/plain": "<Figure size 432x288 with 1 Axes>",
      "image/png": "[encoded data removed]"
     },
     "metadata": {
      "needs_background": "light"
     },
     "output_type": "display_data"
    }
   ],
   "source": [
    "plt.scatter(X[:,0], X[:,1])"
   ]
  },
  {
   "cell_type": "markdown",
   "id": "04e60598",
   "metadata": {
    "pycharm": {
     "name": "#%% md\n"
    }
   },
   "source": [
    "# demean"
   ]
  },
  {
   "cell_type": "code",
   "execution_count": 78,
   "id": "fdb529da",
   "metadata": {
    "pycharm": {
     "name": "#%%\n"
    }
   },
   "outputs": [],
   "source": [
    "def demean(X):\n",
    "    return X - np.mean(X, axis=0)"
   ]
  },
  {
   "cell_type": "code",
   "execution_count": 79,
   "id": "110a3006",
   "metadata": {
    "pycharm": {
     "name": "#%%\n"
    }
   },
   "outputs": [
    {
     "data": {
      "text/plain": "array([[ 20.83888589,  22.45631742],\n       [ 35.21383798,  24.41598954],\n       [ 18.44660729,  21.5483672 ],\n       [ 23.58097942,  24.17539699],\n       [ 45.94096944,  24.66355269],\n       [-47.9345066 , -36.80953473],\n       [ -7.84605642,  -2.57732317],\n       [-44.32354692, -28.3010921 ],\n       [-39.21197017, -38.83645599],\n       [  1.60180428,  -4.93602824],\n       [-29.18007237, -28.01217985],\n       [ 25.21059058,  18.54823818],\n       [-29.915626  , -42.15427404],\n       [ 20.87964892,  13.16982543],\n       [-19.88201571, -30.90457654],\n       [ 28.24311913,  19.03178146],\n       [-48.69394242, -34.14417817],\n       [-37.91906094, -34.81833878],\n       [-38.1094591 , -39.67812496],\n       [-24.43800343,  -2.9183088 ],\n       [-46.88119638, -36.36423887],\n       [ 23.52728912,   8.38826045],\n       [-15.20133211,  -0.35532653],\n       [-29.45451066,  -5.15830069],\n       [ 41.71313298,  37.09074303],\n       [ 48.6298722 ,  42.08803005],\n       [  4.07542811,  -3.58078078],\n       [-23.29164136,   0.87227613],\n       [  9.17643558,  -2.10368517],\n       [-16.63576101, -20.60988324],\n       [ 39.68510508,  25.39887419],\n       [ 13.43562637,  20.31884075],\n       [ 32.68254276,  17.84133348],\n       [  5.52971574,  26.61180238],\n       [ -7.53362571,  12.235541  ],\n       [ 25.09989287,  17.91362259],\n       [-12.24518821,  -6.95777063],\n       [-41.68817191, -30.7232452 ],\n       [ 28.31447154,  24.57286619],\n       [-27.26390186, -21.58718246],\n       [-41.27061362, -22.40457153],\n       [ -0.52677415, -20.60390488],\n       [-33.8374361 , -26.26663421],\n       [ 33.64168702,  17.113348  ],\n       [-30.06796951, -38.97510009],\n       [-22.16393093, -34.88083974],\n       [  6.89861581,   1.82804888],\n       [ 41.03321269,  37.18623798],\n       [ 35.97400788,  40.72116195],\n       [ -7.39663024, -15.12090129],\n       [ -9.85719944,  -4.93470603],\n       [-47.58277497, -51.27626328],\n       [-19.28348912,  -3.22463737],\n       [-13.82700443, -19.69212627],\n       [ 40.14544024,  31.67747536],\n       [ 29.40883064,  23.82108909],\n       [ 27.93386626,  25.46249766],\n       [ -7.19934057,   5.75261852],\n       [ 28.3976875 ,  14.90853547],\n       [ -2.77401194,   0.46602098],\n       [-31.02780973,  -9.23814927],\n       [ 39.19773418,  24.99185655],\n       [ 22.67440048,  48.89067238],\n       [ 17.98330371,   2.05031317],\n       [-23.54846304, -24.53320723],\n       [ -6.12464405,  -1.14553285],\n       [-47.55946865, -47.23918778],\n       [-25.70544363, -21.05178377],\n       [  1.91230482, -10.67956059],\n       [-20.00390226, -22.38863099],\n       [  0.98452451, -27.15080736],\n       [  0.62248669,   3.00973966],\n       [-38.82767389, -18.53049027],\n       [ -4.56051476,  -2.63331124],\n       [ 47.71409054,  33.41493711],\n       [ 24.64228586,  11.52779992],\n       [ 22.75023448,  10.22591325],\n       [ 40.09951235,  44.12896867],\n       [ 47.06264183,  31.48255065],\n       [-29.49980352, -32.57944171],\n       [ 22.25417012,  22.53832742],\n       [-33.01243237, -26.87011967],\n       [ 37.42065087,  30.91918357],\n       [ 13.17719842,  18.38172936],\n       [ 46.74068605,  30.49695202],\n       [  3.20937792,  11.32294969],\n       [-45.56153849, -24.07788436],\n       [ 23.48233156,  21.82813263],\n       [-48.81384191, -16.2896712 ],\n       [-44.17542618, -29.01259488],\n       [ 49.99440529,  20.65548941],\n       [-27.97907627,  -4.92365494],\n       [ 45.53224019,  41.25447625],\n       [ -4.05077142, -13.8916298 ],\n       [ 50.67464098,  39.39220542],\n       [ 15.54532261,  22.78454177],\n       [ 21.01924469,   2.75237093],\n       [ -6.24664976,  -8.04004056],\n       [-32.42735032,  -6.93383731],\n       [-37.39151695, -36.20775344]])"
     },
     "execution_count": 79,
     "metadata": {},
     "output_type": "execute_result"
    }
   ],
   "source": [
    "X_demean = demean(X)\n",
    "X_demean"
   ]
  },
  {
   "cell_type": "code",
   "execution_count": 80,
   "id": "b6dc2ea8",
   "metadata": {
    "pycharm": {
     "name": "#%%\n"
    }
   },
   "outputs": [
    {
     "data": {
      "text/plain": "<matplotlib.collections.PathCollection at 0x7f868e9cfac0>"
     },
     "execution_count": 80,
     "metadata": {},
     "output_type": "execute_result"
    },
    {
     "data": {
      "text/plain": "<Figure size 432x288 with 1 Axes>",
      "image/png": "[encoded data removed]"
     },
     "metadata": {
      "needs_background": "light"
     },
     "output_type": "display_data"
    }
   ],
   "source": [
    "plt.scatter(X_demean[:,0], X_demean[:,1])"
   ]
  },
  {
   "cell_type": "markdown",
   "id": "145de62f",
   "metadata": {
    "pycharm": {
     "name": "#%% md\n"
    }
   },
   "source": [
    "## 梯度上升法"
   ]
  },
  {
   "cell_type": "code",
   "execution_count": 81,
   "id": "0676abaa",
   "metadata": {
    "pycharm": {
     "name": "#%%\n"
    }
   },
   "outputs": [],
   "source": [
    "def f(w,X):\n",
    "    return np.sum((X @ w)**2)/len(X)"
   ]
  },
  {
   "cell_type": "code",
   "execution_count": 82,
   "id": "2d9391f6",
   "metadata": {
    "pycharm": {
     "name": "#%%\n"
    }
   },
   "outputs": [],
   "source": [
    "def df_math(w,X):\n",
    "    return (X.T @ (X @ w)) * 2 /len(X)"
   ]
  },
  {
   "cell_type": "code",
   "execution_count": 83,
   "id": "d15d9a45",
   "metadata": {
    "pycharm": {
     "name": "#%%\n"
    }
   },
   "outputs": [],
   "source": [
    "def df_debug(w, X, epsilon = 0.0001):\n",
    "    res = np.empty(len(w))\n",
    "    for i in range(len(w)):\n",
    "        w_1 = w.copy()\n",
    "        w_1[i] += epsilon\n",
    "        w_2 = w.copy()\n",
    "        w_2[i] -= epsilon\n",
    "        res[i] = (f(w_1, X) - f(w_2, X))/ (2 * epsilon)\n",
    "    return res\n"
   ]
  },
  {
   "cell_type": "code",
   "execution_count": 84,
   "id": "bf310e10",
   "metadata": {
    "pycharm": {
     "name": "#%%\n"
    }
   },
   "outputs": [],
   "source": [
    "def direction(w):\n",
    "    return w/np.linalg.norm(w)\n",
    "\n",
    "def gradient_ascent(df, X, initial_w, eta, n_iters = 1e4, epsilon=1e-8):\n",
    "    cur_iter = 0 \n",
    "    w = direction(initial_w)\n",
    "    while cur_iter < n_iters:\n",
    "        gradient = df(w,X)\n",
    "        last_w = w\n",
    "        w = direction(w + eta * gradient)\n",
    "        if(abs(f(w,X) - f(last_w, X)) < epsilon):\n",
    "            break\n",
    "        cur_iter += 1\n",
    "    return w"
   ]
  },
  {
   "cell_type": "code",
   "execution_count": 85,
   "id": "138a38a1",
   "metadata": {
    "pycharm": {
     "name": "#%%\n"
    }
   },
   "outputs": [
    {
     "data": {
      "text/plain": "array([0.32292754, 0.87410072])"
     },
     "execution_count": 85,
     "metadata": {},
     "output_type": "execute_result"
    }
   ],
   "source": [
    "initial_w = np.random.random(X.shape[1]) # 注意2：不能用0向量开始\n",
    "initial_w.T"
   ]
  },
  {
   "cell_type": "code",
   "execution_count": 86,
   "id": "63a2e625",
   "metadata": {
    "pycharm": {
     "name": "#%%\n"
    }
   },
   "outputs": [],
   "source": [
    "eta = 0.001\n",
    "# 注意3： 不能使用StandardScaler标准化数据"
   ]
  },
  {
   "cell_type": "code",
   "execution_count": 87,
   "id": "1039b9c5",
   "metadata": {
    "pycharm": {
     "name": "#%%\n"
    }
   },
   "outputs": [
    {
     "data": {
      "text/plain": "array([0.77660882, 0.62998313])"
     },
     "execution_count": 87,
     "metadata": {},
     "output_type": "execute_result"
    }
   ],
   "source": [
    "gradient_ascent(df_debug, X_demean, initial_w, eta)"
   ]
  },
  {
   "cell_type": "markdown",
   "source": [],
   "metadata": {
    "collapsed": false,
    "pycharm": {
     "name": "#%% md\n"
    }
   }
  },
  {
   "cell_type": "code",
   "execution_count": 88,
   "id": "4699f034",
   "metadata": {
    "pycharm": {
     "name": "#%%\n"
    }
   },
   "outputs": [
    {
     "data": {
      "text/plain": "array([0.77660882, 0.62998313])"
     },
     "execution_count": 88,
     "metadata": {},
     "output_type": "execute_result"
    }
   ],
   "source": [
    "gradient_ascent(df_math, X_demean, initial_w, eta)"
   ]
  },
  {
   "cell_type": "code",
   "execution_count": 89,
   "id": "94db2dc2",
   "metadata": {
    "pycharm": {
     "name": "#%%\n"
    }
   },
   "outputs": [
    {
     "name": "stdout",
     "output_type": "stream",
     "text": [
      "CPU times: user 711 µs, sys: 113 µs, total: 824 µs\n",
      "Wall time: 768 µs\n"
     ]
    },
    {
     "data": {
      "text/plain": "array([0.77660882, 0.62998313])"
     },
     "execution_count": 89,
     "metadata": {},
     "output_type": "execute_result"
    }
   ],
   "source": [
    "%%time\n",
    "w = gradient_ascent(df_math, X_demean, initial_w, eta)\n",
    "w"
   ]
  },
  {
   "cell_type": "markdown",
   "source": [],
   "metadata": {
    "collapsed": false,
    "pycharm": {
     "name": "#%% md\n"
    }
   }
  },
  {
   "cell_type": "code",
   "execution_count": 90,
   "id": "78e234b5",
   "metadata": {
    "pycharm": {
     "name": "#%%\n"
    }
   },
   "outputs": [
    {
     "data": {
      "text/plain": "<Figure size 432x288 with 1 Axes>",
      "image/png": "[encoded data removed]"
     },
     "metadata": {
      "needs_background": "light"
     },
     "output_type": "display_data"
    }
   ],
   "source": [
    "plt.scatter(X_demean[:,0], X_demean[:,1])\n",
    "plt.plot([0, w[0]*30], [0, w[1]*30], color='r')\n",
    "plt.show()"
   ]
  },
  {
   "cell_type": "markdown",
   "id": "3bac6925",
   "metadata": {
    "pycharm": {
     "name": "#%% md\n"
    }
   },
   "source": [
    "# 使用极端数据集测试"
   ]
  },
  {
   "cell_type": "code",
   "execution_count": 91,
   "id": "81e1d723",
   "metadata": {
    "pycharm": {
     "name": "#%%\n"
    }
   },
   "outputs": [],
   "source": [
    "X2 = np.empty((100, 2))\n",
    "X2[:,0] = np.random.uniform(0., 100., size=100)\n",
    "X2[:,1] = 0.75 * X2[:,0] + 3."
   ]
  },
  {
   "cell_type": "code",
   "execution_count": 92,
   "id": "35e2e257",
   "metadata": {
    "pycharm": {
     "name": "#%%\n"
    }
   },
   "outputs": [
    {
     "data": {
      "text/plain": "<Figure size 432x288 with 1 Axes>",
      "image/png": "[encoded data removed]"
     },
     "metadata": {
      "needs_background": "light"
     },
     "output_type": "display_data"
    }
   ],
   "source": [
    "plt.scatter(X2[:,0], X2[:,1])\n",
    "plt.show()\n"
   ]
  },
  {
   "cell_type": "code",
   "execution_count": 93,
   "id": "d3ce3dcf",
   "metadata": {
    "pycharm": {
     "name": "#%%\n"
    }
   },
   "outputs": [],
   "source": [
    "X2_demean = demean(X2)"
   ]
  },
  {
   "cell_type": "code",
   "execution_count": 94,
   "id": "59b601f6",
   "metadata": {
    "pycharm": {
     "name": "#%%\n"
    }
   },
   "outputs": [
    {
     "name": "stdout",
     "output_type": "stream",
     "text": [
      "CPU times: user 1.02 ms, sys: 164 µs, total: 1.19 ms\n",
      "Wall time: 1.15 ms\n"
     ]
    },
    {
     "data": {
      "text/plain": "array([0.79999971, 0.60000039])"
     },
     "execution_count": 94,
     "metadata": {},
     "output_type": "execute_result"
    }
   ],
   "source": [
    "%%time\n",
    "w2 = gradient_ascent(df_math, X2_demean, initial_w, eta)\n",
    "w2"
   ]
  },
  {
   "cell_type": "code",
   "execution_count": 95,
   "id": "29b09d43",
   "metadata": {
    "pycharm": {
     "name": "#%%\n"
    }
   },
   "outputs": [
    {
     "data": {
      "text/plain": "<Figure size 432x288 with 1 Axes>",
      "image/png": "[encoded data removed]"
     },
     "metadata": {
      "needs_background": "light"
     },
     "output_type": "display_data"
    }
   ],
   "source": [
    "plt.scatter(X2_demean[:,0], X2_demean[:,1])\n",
    "plt.plot([0, w2[0]*30], [0, w2[1]*30], color='r')\n",
    "plt.show()"
   ]
  },
  {
   "cell_type": "markdown",
   "id": "02ab6565",
   "metadata": {
    "pycharm": {
     "name": "#%% md\n"
    }
   },
   "source": [
    "# 随机梯度上升法"
   ]
  },
  {
   "cell_type": "code",
   "execution_count": 96,
   "id": "bea18e40",
   "metadata": {
    "pycharm": {
     "name": "#%%\n"
    }
   },
   "outputs": [
    {
     "data": {
      "text/plain": "array([83, 50,  2, 71, 82, 41, 38, 29, 11, 95, 33,  0, 26, 61, 37, 81, 55,\n       97, 85, 40, 77, 90, 69, 42, 89, 21, 54, 74, 94, 28,  8, 15, 13,  5,\n       75, 58, 64, 79,  4, 20, 43, 99, 19, 91, 56, 47, 59, 16, 65, 48, 62,\n       45, 10, 96, 35, 80, 30, 70, 44, 36, 84, 72, 23, 68, 25,  6, 73, 32,\n       67, 46, 31, 57, 12, 27, 92, 76, 52, 98,  1, 39,  3, 60, 14, 18, 87,\n       24, 63, 66,  7, 88, 93, 34, 49, 53, 22, 51,  9, 86, 78, 17])"
     },
     "execution_count": 96,
     "metadata": {},
     "output_type": "execute_result"
    }
   ],
   "source": [
    "np.random.permutation(len(X))"
   ]
  },
  {
   "cell_type": "code",
   "execution_count": 97,
   "id": "84752b33",
   "metadata": {
    "pycharm": {
     "name": "#%%\n"
    }
   },
   "outputs": [],
   "source": [
    "def dJ_sgd(w, X_i):\n",
    "    return (X_i.T * (X_i @ w)) * 2 /len(X)\n",
    "\n",
    "def sgd(X, initial_w, n_iters):\n",
    "\n",
    "    t0, t1 = 5, 50\n",
    "    def learning_rate(t):\n",
    "        return t0 / (t + t1)\n",
    "    \n",
    "    w = direction(initial_w)\n",
    "    for cur_iter in range(n_iters):\n",
    "        indexes = np.random.permutation(len(X))\n",
    "        X_new = X[indexes]\n",
    "        for i in range(len(X)):\n",
    "            gradient = dJ_sgd(w, X_new[i])\n",
    "            w = w + learning_rate(cur_iter*len(X) + i) * gradient\n",
    "            w = direction(w)\n",
    "    return w"
   ]
  },
  {
   "cell_type": "code",
   "execution_count": 98,
   "id": "542357bd",
   "metadata": {
    "pycharm": {
     "name": "#%%\n"
    }
   },
   "outputs": [
    {
     "name": "stdout",
     "output_type": "stream",
     "text": [
      "CPU times: user 11.2 ms, sys: 3.53 ms, total: 14.7 ms\n",
      "Wall time: 11.7 ms\n"
     ]
    },
    {
     "data": {
      "text/plain": "array([0.77467387, 0.63236096])"
     },
     "execution_count": 98,
     "metadata": {},
     "output_type": "execute_result"
    }
   ],
   "source": [
    "%%time\n",
    "initial_w = np.random.random(X.shape[1])  # 不能取0\n",
    "initial_w\n",
    "sgd(X_demean,initial_w,5)"
   ]
  },
  {
   "cell_type": "markdown",
   "source": [
    "# 获得前N个主成分"
   ],
   "metadata": {
    "collapsed": false,
    "pycharm": {
     "name": "#%% md\n"
    }
   }
  },
  {
   "cell_type": "code",
   "execution_count": 99,
   "outputs": [
    {
     "data": {
      "text/plain": "array([0.77660942, 0.62998239])"
     },
     "execution_count": 99,
     "metadata": {},
     "output_type": "execute_result"
    }
   ],
   "source": [
    "initial_w = np.random.random(X.shape[1]) # 注意2：不能用0向量开始\n",
    "eta = 0.001\n",
    "# 注意3： 不能使用StandardScaler标准化数据\n",
    "w = gradient_ascent(df_debug, X_demean, initial_w, eta)\n",
    "w"
   ],
   "metadata": {
    "collapsed": false,
    "pycharm": {
     "name": "#%%\n"
    }
   }
  },
  {
   "cell_type": "code",
   "execution_count": 100,
   "outputs": [
    {
     "data": {
      "text/plain": "array([[-2.71626772e+00,  3.34847314e+00],\n       [ 2.03006166e+00, -2.50255411e+00],\n       [-3.22149513e+00,  3.97129113e+00],\n       [-2.46905177e+00,  3.04371822e+00],\n       [ 6.16630173e+00, -7.60149509e+00],\n       [-1.01506756e+00,  1.25132234e+00],\n       [-1.85296965e+00,  2.28424431e+00],\n       [-3.74471554e+00,  4.61628996e+00],\n       [ 3.43838532e+00, -4.23866204e+00],\n       [ 3.05067365e+00, -3.76071133e+00],\n       [ 2.12404304e+00, -2.61840945e+00],\n       [ 9.30793620e-01, -1.14743382e+00],\n       [ 8.75114134e+00, -1.07879505e+01],\n       [ 1.84332881e+00, -2.27235959e+00],\n       [ 7.22934120e+00, -8.91195469e+00],\n       [ 1.89776323e+00, -2.33946350e+00],\n       [-2.62049716e+00,  3.23041220e+00],\n       [ 1.98564742e+00, -2.44780256e+00],\n       [ 4.28773425e+00, -5.28569510e+00],\n       [-8.27111788e+00,  1.01962026e+01],\n       [-8.14893225e-01,  1.00455786e+00],\n       [ 5.23350034e+00, -6.45158620e+00],\n       [-5.85922775e+00,  7.22295031e+00],\n       [-9.16614166e+00,  1.12995413e+01],\n       [-1.59163879e+00,  1.96208927e+00],\n       [-1.29146245e+00,  1.59204754e+00],\n       [ 3.36934489e+00, -4.15355260e+00],\n       [-9.67069687e+00,  1.19215306e+01],\n       [ 4.67115214e+00, -5.75835268e+00],\n       [ 3.48102631e+00, -4.29122764e+00],\n       [ 3.32373177e+00, -4.09732313e+00],\n       [-4.60869611e+00,  5.68136014e+00],\n       [ 4.24209892e+00, -5.22943825e+00],\n       [-1.08252097e+01,  1.33447538e+01],\n       [-8.97617042e+00,  1.10653546e+01],\n       [ 1.19734600e+00, -1.47602568e+00],\n       [-1.45575238e+00,  1.79457559e+00],\n       [-1.51375466e+00,  1.86607777e+00],\n       [-7.84895707e-01,  9.67578481e-01],\n       [-2.58903030e-01,  3.19162149e-01],\n       [-5.41794827e+00,  6.67896398e+00],\n       [ 9.87140077e+00, -1.21689479e+01],\n       [-5.78369915e-01,  7.12984259e-01],\n       [ 4.97892908e+00, -6.13776403e+00],\n       [ 7.13526791e+00, -8.79598605e+00],\n       [ 8.26908748e+00, -1.01936997e+01],\n       [ 1.84353413e+00, -2.27261271e+00],\n       [-1.90820500e+00,  2.35233557e+00],\n       [-5.64555357e+00,  6.95954392e+00],\n       [ 4.46234644e+00, -5.50094790e+00],\n       [-1.49779751e+00,  1.84640663e+00],\n       [ 6.20237757e+00, -7.64596750e+00],\n       [-6.07553421e+00,  7.48960163e+00],\n       [ 4.14674663e+00, -5.11189292e+00],\n       [ 4.34621346e-01, -5.35778522e-01],\n       [ 1.72382713e-02, -2.12504415e-02],\n       [-1.37120192e+00,  1.69034619e+00],\n       [-5.67172858e+00,  6.99181112e+00],\n       [ 3.97640714e+00, -4.90190729e+00],\n       [-1.32894466e+00,  1.63825365e+00],\n       [-7.79448218e+00,  9.60863102e+00],\n       [ 3.32943856e+00, -4.10435817e+00],\n       [-1.49208077e+01,  1.83935933e+01],\n       [ 6.13405790e+00, -7.56174657e+00],\n       [ 2.65701556e+00, -3.27543017e+00],\n       [-1.87028306e+00,  2.30558739e+00],\n       [ 4.23648710e+00, -5.22252029e+00],\n       [ 9.76705095e-02, -1.20403109e-01],\n       [ 5.98392910e+00, -7.37667562e+00],\n       [ 3.01453859e+00, -3.71616591e+00],\n       [ 1.36742754e+01, -1.68569333e+01],\n       [-1.22546475e+00,  1.51068901e+00],\n       [-6.34379495e+00,  7.82029948e+00],\n       [-5.21618898e-01,  6.43024566e-01],\n       [ 2.58839707e+00, -3.19084088e+00],\n       [ 4.13999731e+00, -5.10357271e+00],\n       [ 4.02603249e+00, -4.96308283e+00],\n       [-5.67550271e+00,  6.99646366e+00],\n       [ 3.27527211e+00, -4.03758459e+00],\n       [ 4.23168288e+00, -5.21659790e+00],\n       [-2.19469623e+00,  2.70550702e+00],\n       [ 4.43111687e-02, -5.46244972e-02],\n       [-2.75792630e-01,  3.39982767e-01],\n       [-3.76352819e+00,  4.63948121e+00],\n       [ 3.62969939e+00, -4.47450405e+00],\n       [-4.26602517e+00,  5.25893327e+00],\n       [-6.30225239e+00,  7.76908797e+00],\n       [-1.35980323e+00,  1.67629448e+00],\n       [-1.14034047e+01,  1.40575225e+01],\n       [-3.33782679e+00,  4.11469874e+00],\n       [ 9.73596645e+00, -1.20019915e+01],\n       [-8.69537499e+00,  1.07192047e+01],\n       [-2.11302744e+00,  2.60483000e+00],\n       [ 5.18882216e+00, -6.39650927e+00],\n       [ 8.38993785e-01, -1.03426777e+00],\n       [-4.97774935e+00,  6.13630972e+00],\n       [ 6.99547355e+00, -8.62365486e+00],\n       [ 1.45443525e+00, -1.79295190e+00],\n       [-9.47731400e+00,  1.16831383e+01],\n       [ 2.87478940e+00, -3.54389040e+00]])"
     },
     "execution_count": 100,
     "metadata": {},
     "output_type": "execute_result"
    }
   ],
   "source": [
    "X2 = np.empty(X.shape)\n",
    "for i in range(len(X)):\n",
    "    X2[i] = X_demean[i] - X_demean[i] @ w * w\n",
    "X2"
   ],
   "metadata": {
    "collapsed": false,
    "pycharm": {
     "name": "#%%\n"
    }
   }
  },
  {
   "cell_type": "markdown",
   "source": [],
   "metadata": {
    "collapsed": false,
    "pycharm": {
     "name": "#%% md\n"
    }
   }
  },
  {
   "cell_type": "code",
   "execution_count": 101,
   "outputs": [
    {
     "data": {
      "text/plain": "array([[-2.71626772e+00,  3.34847314e+00],\n       [ 2.03006166e+00, -2.50255411e+00],\n       [-3.22149513e+00,  3.97129113e+00],\n       [-2.46905177e+00,  3.04371822e+00],\n       [ 6.16630173e+00, -7.60149509e+00],\n       [-1.01506756e+00,  1.25132234e+00],\n       [-1.85296965e+00,  2.28424431e+00],\n       [-3.74471554e+00,  4.61628996e+00],\n       [ 3.43838532e+00, -4.23866204e+00],\n       [ 3.05067365e+00, -3.76071133e+00],\n       [ 2.12404304e+00, -2.61840945e+00],\n       [ 9.30793620e-01, -1.14743382e+00],\n       [ 8.75114134e+00, -1.07879505e+01],\n       [ 1.84332881e+00, -2.27235959e+00],\n       [ 7.22934120e+00, -8.91195469e+00],\n       [ 1.89776323e+00, -2.33946350e+00],\n       [-2.62049716e+00,  3.23041220e+00],\n       [ 1.98564742e+00, -2.44780256e+00],\n       [ 4.28773425e+00, -5.28569510e+00],\n       [-8.27111788e+00,  1.01962026e+01],\n       [-8.14893225e-01,  1.00455786e+00],\n       [ 5.23350034e+00, -6.45158620e+00],\n       [-5.85922775e+00,  7.22295031e+00],\n       [-9.16614166e+00,  1.12995413e+01],\n       [-1.59163879e+00,  1.96208927e+00],\n       [-1.29146245e+00,  1.59204754e+00],\n       [ 3.36934489e+00, -4.15355260e+00],\n       [-9.67069687e+00,  1.19215306e+01],\n       [ 4.67115214e+00, -5.75835268e+00],\n       [ 3.48102631e+00, -4.29122764e+00],\n       [ 3.32373177e+00, -4.09732313e+00],\n       [-4.60869611e+00,  5.68136014e+00],\n       [ 4.24209892e+00, -5.22943825e+00],\n       [-1.08252097e+01,  1.33447538e+01],\n       [-8.97617042e+00,  1.10653546e+01],\n       [ 1.19734600e+00, -1.47602568e+00],\n       [-1.45575238e+00,  1.79457559e+00],\n       [-1.51375466e+00,  1.86607777e+00],\n       [-7.84895707e-01,  9.67578481e-01],\n       [-2.58903030e-01,  3.19162149e-01],\n       [-5.41794827e+00,  6.67896398e+00],\n       [ 9.87140077e+00, -1.21689479e+01],\n       [-5.78369915e-01,  7.12984259e-01],\n       [ 4.97892908e+00, -6.13776403e+00],\n       [ 7.13526791e+00, -8.79598605e+00],\n       [ 8.26908748e+00, -1.01936997e+01],\n       [ 1.84353413e+00, -2.27261271e+00],\n       [-1.90820500e+00,  2.35233557e+00],\n       [-5.64555357e+00,  6.95954392e+00],\n       [ 4.46234644e+00, -5.50094790e+00],\n       [-1.49779751e+00,  1.84640663e+00],\n       [ 6.20237757e+00, -7.64596750e+00],\n       [-6.07553421e+00,  7.48960163e+00],\n       [ 4.14674663e+00, -5.11189292e+00],\n       [ 4.34621346e-01, -5.35778522e-01],\n       [ 1.72382713e-02, -2.12504415e-02],\n       [-1.37120192e+00,  1.69034619e+00],\n       [-5.67172858e+00,  6.99181112e+00],\n       [ 3.97640714e+00, -4.90190729e+00],\n       [-1.32894466e+00,  1.63825365e+00],\n       [-7.79448218e+00,  9.60863102e+00],\n       [ 3.32943856e+00, -4.10435817e+00],\n       [-1.49208077e+01,  1.83935933e+01],\n       [ 6.13405790e+00, -7.56174657e+00],\n       [ 2.65701556e+00, -3.27543017e+00],\n       [-1.87028306e+00,  2.30558739e+00],\n       [ 4.23648710e+00, -5.22252029e+00],\n       [ 9.76705095e-02, -1.20403109e-01],\n       [ 5.98392910e+00, -7.37667562e+00],\n       [ 3.01453859e+00, -3.71616591e+00],\n       [ 1.36742754e+01, -1.68569333e+01],\n       [-1.22546475e+00,  1.51068901e+00],\n       [-6.34379495e+00,  7.82029948e+00],\n       [-5.21618898e-01,  6.43024566e-01],\n       [ 2.58839707e+00, -3.19084088e+00],\n       [ 4.13999731e+00, -5.10357271e+00],\n       [ 4.02603249e+00, -4.96308283e+00],\n       [-5.67550271e+00,  6.99646366e+00],\n       [ 3.27527211e+00, -4.03758459e+00],\n       [ 4.23168288e+00, -5.21659790e+00],\n       [-2.19469623e+00,  2.70550702e+00],\n       [ 4.43111687e-02, -5.46244972e-02],\n       [-2.75792630e-01,  3.39982767e-01],\n       [-3.76352819e+00,  4.63948121e+00],\n       [ 3.62969939e+00, -4.47450405e+00],\n       [-4.26602517e+00,  5.25893327e+00],\n       [-6.30225239e+00,  7.76908797e+00],\n       [-1.35980323e+00,  1.67629448e+00],\n       [-1.14034047e+01,  1.40575225e+01],\n       [-3.33782679e+00,  4.11469874e+00],\n       [ 9.73596645e+00, -1.20019915e+01],\n       [-8.69537499e+00,  1.07192047e+01],\n       [-2.11302744e+00,  2.60483000e+00],\n       [ 5.18882216e+00, -6.39650927e+00],\n       [ 8.38993785e-01, -1.03426777e+00],\n       [-4.97774935e+00,  6.13630972e+00],\n       [ 6.99547355e+00, -8.62365486e+00],\n       [ 1.45443525e+00, -1.79295190e+00],\n       [-9.47731400e+00,  1.16831383e+01],\n       [ 2.87478940e+00, -3.54389040e+00]])"
     },
     "execution_count": 101,
     "metadata": {},
     "output_type": "execute_result"
    }
   ],
   "source": [
    "X2 = X_demean - (X_demean @ w).reshape(-1,1) * w.reshape(1,-1)\n",
    "X2"
   ],
   "metadata": {
    "collapsed": false,
    "pycharm": {
     "name": "#%%\n"
    }
   }
  },
  {
   "cell_type": "code",
   "execution_count": 102,
   "outputs": [
    {
     "data": {
      "text/plain": "<matplotlib.collections.PathCollection at 0x7f868ed42be0>"
     },
     "execution_count": 102,
     "metadata": {},
     "output_type": "execute_result"
    },
    {
     "data": {
      "text/plain": "<Figure size 432x288 with 1 Axes>",
      "image/png": "[encoded data removed]"
     },
     "metadata": {
      "needs_background": "light"
     },
     "output_type": "display_data"
    }
   ],
   "source": [
    "plt.scatter(X2[:,0],X2[:,1])"
   ],
   "metadata": {
    "collapsed": false,
    "pycharm": {
     "name": "#%%\n"
    }
   }
  },
  {
   "cell_type": "code",
   "execution_count": 103,
   "outputs": [
    {
     "data": {
      "text/plain": "array([-0.62996682,  0.77662205])"
     },
     "execution_count": 103,
     "metadata": {},
     "output_type": "execute_result"
    }
   ],
   "source": [
    "initial_w = np.random.random(X.shape[1]) # 注意2：不能用0向量开始\n",
    "eta = 0.001\n",
    "# 注意3： 不能使用StandardScaler标准化数据\n",
    "w2 = gradient_ascent(df_math, X2, initial_w, eta)\n",
    "w2"
   ],
   "metadata": {
    "collapsed": false,
    "pycharm": {
     "name": "#%%\n"
    }
   }
  },
  {
   "cell_type": "code",
   "execution_count": 109,
   "outputs": [
    {
     "data": {
      "text/plain": "5.422249397368795e-06"
     },
     "execution_count": 109,
     "metadata": {},
     "output_type": "execute_result"
    }
   ],
   "source": [
    "def first_n_components(n, X, eta = 0.01, n_iters = 1e4, epsilon = 1e-8):\n",
    "    X_pca = X.copy()\n",
    "    X_pca = demean(X_pca)\n",
    "\n",
    "    res = []\n",
    "    for i in range(n):\n",
    "        initial_w = np.random.random(X_pca.shape[1])\n",
    "        w = gradient_ascent(df_math,X_pca,initial_w,eta)\n",
    "        res.append(w)\n",
    "\n",
    "        X_pca = X_pca - (X_pca @ w).reshape(-1,1) * w.reshape(1,-1)\n",
    "    return res\n",
    "\n",
    "W = first_n_components(2,X)\n",
    "W[0] @ W [1]"
   ],
   "metadata": {
    "collapsed": false,
    "pycharm": {
     "name": "#%%\n"
    }
   }
  },
  {
   "cell_type": "code",
   "execution_count": 108,
   "outputs": [
    {
     "data": {
      "text/plain": "<Figure size 432x288 with 1 Axes>",
      "image/png": "[encoded data removed]"
     },
     "metadata": {
      "needs_background": "light"
     },
     "output_type": "display_data"
    }
   ],
   "source": [
    "plt.scatter(X_demean[:,0], X_demean[:,1])\n",
    "for i in range(len(W)):\n",
    "    plt.plot([0, W[i][0]*30], [0, W[i][1]*30])\n",
    "plt.show()"
   ],
   "metadata": {
    "collapsed": false,
    "pycharm": {
     "name": "#%%\n"
    }
   }
  },
  {
   "cell_type": "code",
   "execution_count": null,
   "outputs": [],
   "source": [],
   "metadata": {
    "collapsed": false,
    "pycharm": {
     "name": "#%%\n"
    }
   }
  }
 ],
 "metadata": {
  "kernelspec": {
   "display_name": "Python 3",
   "language": "python",
   "name": "python3"
  },
  "language_info": {
   "codemirror_mode": {
    "name": "ipython",
    "version": 3
   },
   "file_extension": ".py",
   "mimetype": "text/x-python",
   "name": "python",
   "nbconvert_exporter": "python",
   "pygments_lexer": "ipython3",
   "version": "3.8.3"
  }
 },
 "nbformat": 4,
 "nbformat_minor": 5
}